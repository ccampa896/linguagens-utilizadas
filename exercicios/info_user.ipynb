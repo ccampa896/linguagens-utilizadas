{
 "cells": [
  {
   "cell_type": "markdown",
   "id": "98f63a27",
   "metadata": {},
   "source": [
    "#  Biblioteca Requests e API do GitHub\n",
    "\n",
    "## Requisição GET para obter informações de um usuário em específico"
   ]
  },
  {
   "cell_type": "code",
   "execution_count": 8,
   "id": "b161d873",
   "metadata": {},
   "outputs": [
    {
     "name": "stdout",
     "output_type": "stream",
     "text": [
      "Digite o usuário para ser pesquisado no GitHub: ccampa896\n"
     ]
    }
   ],
   "source": [
    "username = input('Digite o usuário para ser pesquisado no GitHub: ')"
   ]
  },
  {
   "cell_type": "code",
   "execution_count": 9,
   "id": "6add1c3a",
   "metadata": {},
   "outputs": [],
   "source": [
    "github_url = f'https://api.github.com/users/{username}'"
   ]
  },
  {
   "cell_type": "code",
   "execution_count": 10,
   "id": "3291f7ed",
   "metadata": {},
   "outputs": [],
   "source": [
    "# importando a biblioteca Requests\n",
    "import requests"
   ]
  },
  {
   "cell_type": "code",
   "execution_count": 11,
   "id": "e321e15f",
   "metadata": {},
   "outputs": [],
   "source": [
    "response = requests.get(github_url)"
   ]
  },
  {
   "cell_type": "markdown",
   "id": "439ba9bc",
   "metadata": {},
   "source": [
    "Com o objeto response retornado pela requisição, imprimimos na tela as seguintes informações sobre a requisição:\n",
    "\n",
    "- status code da requisição, para analisar se foi bem sucedida ou não;\n",
    "- conteúdo da requisição, para conferir se os dados de usuário vieram corretamente;\n",
    "- URL da requisição feita, para garantir que a url utilizada na requisição foi a correta."
   ]
  },
  {
   "cell_type": "code",
   "execution_count": 12,
   "id": "5a2eaaf6",
   "metadata": {},
   "outputs": [
    {
     "data": {
      "text/plain": [
       "200"
      ]
     },
     "execution_count": 12,
     "metadata": {},
     "output_type": "execute_result"
    }
   ],
   "source": [
    "# status_code\n",
    "response.status_code"
   ]
  },
  {
   "cell_type": "code",
   "execution_count": 23,
   "id": "0b9c7a70",
   "metadata": {},
   "outputs": [
    {
     "data": {
      "text/plain": [
       "{'login': 'ccampa896',\n",
       " 'id': 86067877,\n",
       " 'node_id': 'MDQ6VXNlcjg2MDY3ODc3',\n",
       " 'avatar_url': 'https://avatars.githubusercontent.com/u/86067877?v=4',\n",
       " 'gravatar_id': '',\n",
       " 'url': 'https://api.github.com/users/ccampa896',\n",
       " 'html_url': 'https://github.com/ccampa896',\n",
       " 'followers_url': 'https://api.github.com/users/ccampa896/followers',\n",
       " 'following_url': 'https://api.github.com/users/ccampa896/following{/other_user}',\n",
       " 'gists_url': 'https://api.github.com/users/ccampa896/gists{/gist_id}',\n",
       " 'starred_url': 'https://api.github.com/users/ccampa896/starred{/owner}{/repo}',\n",
       " 'subscriptions_url': 'https://api.github.com/users/ccampa896/subscriptions',\n",
       " 'organizations_url': 'https://api.github.com/users/ccampa896/orgs',\n",
       " 'repos_url': 'https://api.github.com/users/ccampa896/repos',\n",
       " 'events_url': 'https://api.github.com/users/ccampa896/events{/privacy}',\n",
       " 'received_events_url': 'https://api.github.com/users/ccampa896/received_events',\n",
       " 'type': 'User',\n",
       " 'site_admin': False,\n",
       " 'name': 'Carlos Felipe Dalan Campanari',\n",
       " 'company': None,\n",
       " 'blog': '',\n",
       " 'location': None,\n",
       " 'email': None,\n",
       " 'hireable': None,\n",
       " 'bio': 'Software Engineering and Data Science student, passionate about data and web technologies!',\n",
       " 'twitter_username': None,\n",
       " 'public_repos': 22,\n",
       " 'public_gists': 0,\n",
       " 'followers': 0,\n",
       " 'following': 7,\n",
       " 'created_at': '2021-06-17T15:23:58Z',\n",
       " 'updated_at': '2023-09-13T19:46:45Z'}"
      ]
     },
     "execution_count": 23,
     "metadata": {},
     "output_type": "execute_result"
    }
   ],
   "source": [
    "# Conteúdo da requisição em formato JSON, para facilitar a leitura\n",
    "response.json()"
   ]
  },
  {
   "cell_type": "code",
   "execution_count": 22,
   "id": "2aa515fa",
   "metadata": {},
   "outputs": [
    {
     "data": {
      "text/plain": [
       "'https://api.github.com/users/ccampa896'"
      ]
     },
     "execution_count": 22,
     "metadata": {},
     "output_type": "execute_result"
    }
   ],
   "source": [
    "# URL do endpoint da API em que foi realizada a requisição\n",
    "response.url"
   ]
  },
  {
   "cell_type": "markdown",
   "id": "d21a3c0b",
   "metadata": {},
   "source": [
    "Para analisar o conteúdo retornado pela requisição, imprimimos na tela apenas as seguintes informações sobre a pessoa usuária em questão:\n",
    "\n",
    "- Nome\n",
    "- Nome de usuário\n",
    "- Número de repositórios públicos\n",
    "- Data de criação da conta no GitHub"
   ]
  },
  {
   "cell_type": "code",
   "execution_count": 24,
   "id": "3826e155",
   "metadata": {},
   "outputs": [],
   "source": [
    "# Convertendo o Objeto Response gerado em JSON para dicionário Python\n",
    "resposta = response.json()"
   ]
  },
  {
   "cell_type": "code",
   "execution_count": 25,
   "id": "743cc369",
   "metadata": {},
   "outputs": [
    {
     "name": "stdout",
     "output_type": "stream",
     "text": [
      "Carlos Felipe Dalan Campanari\n"
     ]
    }
   ],
   "source": [
    "# Acessando o nome\n",
    "print(resposta['name'])"
   ]
  },
  {
   "cell_type": "code",
   "execution_count": 26,
   "id": "744f383a",
   "metadata": {},
   "outputs": [
    {
     "name": "stdout",
     "output_type": "stream",
     "text": [
      "ccampa896\n"
     ]
    }
   ],
   "source": [
    "# Acessando o nome do usuário\n",
    "print(resposta['login'])"
   ]
  },
  {
   "cell_type": "code",
   "execution_count": 27,
   "id": "0f9696d9",
   "metadata": {},
   "outputs": [
    {
     "name": "stdout",
     "output_type": "stream",
     "text": [
      "22\n"
     ]
    }
   ],
   "source": [
    "# Acessando o número de repositórios públicos\n",
    "print(resposta['public_repos'])"
   ]
  },
  {
   "cell_type": "code",
   "execution_count": 32,
   "id": "fabf2c05",
   "metadata": {},
   "outputs": [
    {
     "name": "stdout",
     "output_type": "stream",
     "text": [
      "2021-06-17\n"
     ]
    }
   ],
   "source": [
    "# Acessando a data de criação da conta no GitHub em formato americado\n",
    "createdAt = resposta['created_at'].split('T')\n",
    "print(createdAt[0])"
   ]
  },
  {
   "cell_type": "code",
   "execution_count": null,
   "id": "4fb52465",
   "metadata": {},
   "outputs": [],
   "source": []
  }
 ],
 "metadata": {
  "kernelspec": {
   "display_name": "Python 3 (ipykernel)",
   "language": "python",
   "name": "python3"
  },
  "language_info": {
   "codemirror_mode": {
    "name": "ipython",
    "version": 3
   },
   "file_extension": ".py",
   "mimetype": "text/x-python",
   "name": "python",
   "nbconvert_exporter": "python",
   "pygments_lexer": "ipython3",
   "version": "3.9.12"
  }
 },
 "nbformat": 4,
 "nbformat_minor": 5
}
